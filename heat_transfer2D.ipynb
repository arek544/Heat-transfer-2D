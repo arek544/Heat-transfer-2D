{
 "cells": [
  {
   "cell_type": "markdown",
   "metadata": {},
   "source": [
    "# Heat transfer 2D"
   ]
  },
  {
   "cell_type": "code",
   "execution_count": 1,
   "metadata": {},
   "outputs": [],
   "source": [
    "from numpy import zeros,sin,linspace,meshgrid\n",
    "\n",
    "init_cond = zeros((32,32))\n",
    "time = 500\n",
    "alpha = 1\n",
    "\n",
    "nrow = init_cond.shape[0]\n",
    "ncol = init_cond.shape[1]\n",
    "y_t=zeros((nrow,ncol,time))\n",
    "t=0\n",
    "\n",
    "while t < time-1:\n",
    "    for x in range(0,ncol-1):\n",
    "        for y in range(0,nrow-1):\n",
    "                y_t[x,y,t+1] = y_t[x,y,t] + sin(x/2+y/4)\n",
    "                + (alpha/10) * (y_t[x+1,y,t] + y_t[x-1,y,t] - 2 * y_t[x,y,t]\n",
    "                + y_t[x,y+1,t] + y_t[x,y-1,t] - 2 *y_t[x,y,t])     \n",
    "    t=t+1"
   ]
  },
  {
   "cell_type": "code",
   "execution_count": 3,
   "metadata": {},
   "outputs": [
    {
     "data": {
      "application/vnd.jupyter.widget-view+json": {
       "model_id": "b821254cec4a421896d7881cdd76d096",
       "version_major": 2,
       "version_minor": 0
      },
      "text/plain": [
       "interactive(children=(IntSlider(value=1, description='t', max=499), Output()), _dom_classes=('widget-interact'…"
      ]
     },
     "metadata": {},
     "output_type": "display_data"
    }
   ],
   "source": [
    "from ipywidgets import interact,interactive,fixed,interact_manual\n",
    "import ipywidgets as widgets\n",
    "from IPython.display import display\n",
    "from mpl_toolkits import mplot3d\n",
    "import matplotlib.pyplot as plt\n",
    "plt.rcParams['figure.figsize'] = [15,10]\n",
    "\n",
    "x = linspace(0, 32, 32)\n",
    "y = linspace(0, 32, 32)\n",
    "X, Y = meshgrid(x, y)\n",
    "Z = y_t[:,:,t]\n",
    "\n",
    "def display_plot(t=1):            \n",
    "    ax = plt.axes(projection='3d')\n",
    "    ax.plot_surface(X, Y, Z, cmap='viridis', edgecolor='none')\n",
    "    plt.figure()\n",
    "    cp = plt.contourf(X, Y, Z)\n",
    "    plt.colorbar(cp)\n",
    "\n",
    "    \n",
    "slider=interactive(display_plot,t=(0,499,1))\n",
    "display(slider)"
   ]
  },
  {
   "cell_type": "code",
   "execution_count": null,
   "metadata": {},
   "outputs": [],
   "source": []
  }
 ],
 "metadata": {
  "kernelspec": {
   "display_name": "Python 3",
   "language": "python",
   "name": "python3"
  },
  "language_info": {
   "codemirror_mode": {
    "name": "ipython",
    "version": 3
   },
   "file_extension": ".py",
   "mimetype": "text/x-python",
   "name": "python",
   "nbconvert_exporter": "python",
   "pygments_lexer": "ipython3",
   "version": "3.5.4"
  }
 },
 "nbformat": 4,
 "nbformat_minor": 2
}
